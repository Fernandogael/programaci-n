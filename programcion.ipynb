{
  "nbformat": 4,
  "nbformat_minor": 0,
  "metadata": {
    "colab": {
      "provenance": []
    },
    "kernelspec": {
      "name": "python3",
      "display_name": "Python 3"
    },
    "language_info": {
      "name": "python"
    }
  },
  "cells": [
    {
      "cell_type": "markdown",
      "source": [
        "**legauje de programacion**\n",
        "\n",
        "leguaje de prgramacion\n",
        "\n",
        "*c\n",
        "*c++\n",
        "*Fortram\n",
        "*Delphi\n",
        "\n",
        "\n",
        "**Algoritmo**\n",
        "\n",
        "conjunto de pasos, prsedimientos o acciones que nos dan un resultado\n",
        "\n",
        "DETERMINISMO\n",
        "presicion\n",
        "finitud\n",
        "\n",
        "(cairo et al. , 1993)\n",
        "\n",
        "**DATOS**\n",
        "\n",
        "valores enteros y valores reales,\n",
        "valores enteros pueden estar precedidos por los signos ( + - )\n",
        "\n",
        "128 152s -714 8 530 -14 789\n",
        "7.5 128.0 -37.865  129.7    16 00.50\n",
        "\n",
        "**DATOS ALFANUMERICOS**\n",
        "\n",
        "*CARACTER\n",
        "*CADENA\n",
        "\n",
        "(A,B,C....Z)\n",
        "(0,1,2,3,,,,9)\n",
        "(*,#,?,$,%,ETC)\n",
        "\n",
        "´a´ ´B´ ´$´ ´9´\n",
        "\n",
        "\"abc\" \"$9#7\" \"Heeeectooooor\" \"patroclio!!!\" \"754-27-22\"\n",
        "\n",
        "**DAROS LOGICOS**\n",
        "bolenaos\n",
        "verdadero (ture)\n",
        "falso     (falce)\n"
      ],
      "metadata": {
        "id": "7nVjLB1eESRB"
      }
    },
    {
      "cell_type": "code",
      "source": [
        "#tipós de variables en python\n",
        "#EL tipo de varaibles estara determinado por el tipo de dato que almacena\n",
        "#Enteros: vasta agregar un valor entero.\n",
        "\n",
        "a=10\n",
        "b=11\n",
        "\n",
        "#DECIMALES: deben agregarse un numero con punto flotante\n",
        "c=3,1416\n",
        "\n",
        "#Boleamos: Datos con verdadero y falce\n",
        "#se puede usar palbras: Ture y Falce\n",
        "\n",
        "verdad = True\n",
        "falso = False\n",
        "\n",
        "verdad = 1\n",
        "Falso = 0\n",
        "\n",
        "#texto o cadena o string\n",
        "saludo = \"Hola mundo\"\n",
        "nombre = \"gael\"\n",
        "\n",
        "uno = 'a'\n",
        "dos = 'b'\n",
        "\n",
        "print(a)\n",
        "print(b)\n",
        "print(c)\n",
        "print(verdad)\n",
        "print(falso)\n",
        "print(verdad)\n",
        "print(Falso)\n",
        "print(saludo)\n",
        "print(nombre)\n",
        "print(uno)\n",
        "print(dos)\n"
      ],
      "metadata": {
        "colab": {
          "base_uri": "https://localhost:8080/"
        },
        "id": "jjunvkXVLcSZ",
        "outputId": "bcab9518-b1b1-4a36-f7a7-b4aa06982a6a"
      },
      "execution_count": 10,
      "outputs": [
        {
          "output_type": "stream",
          "name": "stdout",
          "text": [
            "10\n",
            "11\n",
            "(3, 1416)\n",
            "1\n",
            "False\n",
            "1\n",
            "0\n",
            "Hola mundo\n",
            "gael\n",
            "a\n",
            "b\n"
          ]
        }
      ]
    }
  ]
}